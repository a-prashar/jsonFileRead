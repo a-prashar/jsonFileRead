{
  "nbformat": 4,
  "nbformat_minor": 0,
  "metadata": {
    "colab": {
      "provenance": []
    },
    "kernelspec": {
      "name": "python3",
      "display_name": "Python 3"
    },
    "language_info": {
      "name": "python"
    }
  },
  "cells": [
    {
      "cell_type": "code",
      "execution_count": 6,
      "metadata": {
        "id": "WsFuyHGoQtHn"
      },
      "outputs": [],
      "source": [
        "## pip install pyspark\n",
        "!pip install -q pyspark\n",
        "\n",
        "## Creating Spark Session\n",
        "from pyspark.sql import SparkSession\n",
        "spark= SparkSession.builder.appName(\"test-app\").getOrCreate()\n",
        "\n",
        "\n",
        "rest_json_df = spark.read.json(\"/file1.json\")"
      ]
    },
    {
      "cell_type": "code",
      "source": [
        "from pyspark.sql.functions import *\n",
        "from pyspark.sql.types import *"
      ],
      "metadata": {
        "id": "lSbxNYrhU2ev"
      },
      "execution_count": 10,
      "outputs": []
    },
    {
      "cell_type": "code",
      "source": [
        "rest_json_df.printSchema()"
      ],
      "metadata": {
        "colab": {
          "base_uri": "https://localhost:8080/"
        },
        "id": "g1LvgZeJVYZ-",
        "outputId": "6dcd3bc8-f5f8-40bf-ba0a-c8783e877fd6"
      },
      "execution_count": 25,
      "outputs": [
        {
          "output_type": "stream",
          "name": "stdout",
          "text": [
            "root\n",
            " |-- code: long (nullable = true)\n",
            " |-- message: string (nullable = true)\n",
            " |-- restaurants: array (nullable = true)\n",
            " |    |-- element: struct (containsNull = true)\n",
            " |    |    |-- restaurant: struct (nullable = true)\n",
            " |    |    |    |-- R: struct (nullable = true)\n",
            " |    |    |    |    |-- res_id: long (nullable = true)\n",
            " |    |    |    |-- apikey: string (nullable = true)\n",
            " |    |    |    |-- average_cost_for_two: long (nullable = true)\n",
            " |    |    |    |-- book_url: string (nullable = true)\n",
            " |    |    |    |-- cuisines: string (nullable = true)\n",
            " |    |    |    |-- currency: string (nullable = true)\n",
            " |    |    |    |-- deeplink: string (nullable = true)\n",
            " |    |    |    |-- establishment_types: array (nullable = true)\n",
            " |    |    |    |    |-- element: string (containsNull = true)\n",
            " |    |    |    |-- events_url: string (nullable = true)\n",
            " |    |    |    |-- featured_image: string (nullable = true)\n",
            " |    |    |    |-- has_online_delivery: long (nullable = true)\n",
            " |    |    |    |-- has_table_booking: long (nullable = true)\n",
            " |    |    |    |-- id: string (nullable = true)\n",
            " |    |    |    |-- is_delivering_now: long (nullable = true)\n",
            " |    |    |    |-- location: struct (nullable = true)\n",
            " |    |    |    |    |-- address: string (nullable = true)\n",
            " |    |    |    |    |-- city: string (nullable = true)\n",
            " |    |    |    |    |-- city_id: long (nullable = true)\n",
            " |    |    |    |    |-- country_id: long (nullable = true)\n",
            " |    |    |    |    |-- latitude: string (nullable = true)\n",
            " |    |    |    |    |-- locality: string (nullable = true)\n",
            " |    |    |    |    |-- locality_verbose: string (nullable = true)\n",
            " |    |    |    |    |-- longitude: string (nullable = true)\n",
            " |    |    |    |    |-- zipcode: string (nullable = true)\n",
            " |    |    |    |-- menu_url: string (nullable = true)\n",
            " |    |    |    |-- name: string (nullable = true)\n",
            " |    |    |    |-- offers: array (nullable = true)\n",
            " |    |    |    |    |-- element: struct (containsNull = true)\n",
            " |    |    |    |    |    |-- offer: struct (nullable = true)\n",
            " |    |    |    |    |    |    |-- added_by: long (nullable = true)\n",
            " |    |    |    |    |    |    |-- applicable_on: long (nullable = true)\n",
            " |    |    |    |    |    |    |-- date_added: string (nullable = true)\n",
            " |    |    |    |    |    |    |-- disclaimer: string (nullable = true)\n",
            " |    |    |    |    |    |    |-- end_date: string (nullable = true)\n",
            " |    |    |    |    |    |    |-- friendly_end_date: string (nullable = true)\n",
            " |    |    |    |    |    |    |-- friendly_start_date: string (nullable = true)\n",
            " |    |    |    |    |    |    |-- impressions: long (nullable = true)\n",
            " |    |    |    |    |    |    |-- is_active: long (nullable = true)\n",
            " |    |    |    |    |    |    |-- is_editable: long (nullable = true)\n",
            " |    |    |    |    |    |    |-- is_valid: long (nullable = true)\n",
            " |    |    |    |    |    |    |-- offer_id: long (nullable = true)\n",
            " |    |    |    |    |    |    |-- offer_text: string (nullable = true)\n",
            " |    |    |    |    |    |    |-- offer_type: string (nullable = true)\n",
            " |    |    |    |    |    |    |-- restaurant_list: array (nullable = true)\n",
            " |    |    |    |    |    |    |    |-- element: string (containsNull = true)\n",
            " |    |    |    |    |    |    |-- restaurants: array (nullable = true)\n",
            " |    |    |    |    |    |    |    |-- element: string (containsNull = true)\n",
            " |    |    |    |    |    |    |-- share_url: string (nullable = true)\n",
            " |    |    |    |    |    |    |-- start_date: string (nullable = true)\n",
            " |    |    |    |    |    |    |-- status: long (nullable = true)\n",
            " |    |    |    |    |    |    |-- type: string (nullable = true)\n",
            " |    |    |    |    |    |    |-- type_code: long (nullable = true)\n",
            " |    |    |    |    |    |    |-- voucher_id: long (nullable = true)\n",
            " |    |    |    |-- order_deeplink: string (nullable = true)\n",
            " |    |    |    |-- order_url: string (nullable = true)\n",
            " |    |    |    |-- photos_url: string (nullable = true)\n",
            " |    |    |    |-- price_range: long (nullable = true)\n",
            " |    |    |    |-- switch_to_order_menu: long (nullable = true)\n",
            " |    |    |    |-- thumb: string (nullable = true)\n",
            " |    |    |    |-- url: string (nullable = true)\n",
            " |    |    |    |-- user_rating: struct (nullable = true)\n",
            " |    |    |    |    |-- aggregate_rating: string (nullable = true)\n",
            " |    |    |    |    |-- rating_color: string (nullable = true)\n",
            " |    |    |    |    |-- rating_text: string (nullable = true)\n",
            " |    |    |    |    |-- votes: string (nullable = true)\n",
            " |    |    |    |-- zomato_events: array (nullable = true)\n",
            " |    |    |    |    |-- element: struct (containsNull = true)\n",
            " |    |    |    |    |    |-- event: struct (nullable = true)\n",
            " |    |    |    |    |    |    |-- book_link: string (nullable = true)\n",
            " |    |    |    |    |    |    |-- date_added: string (nullable = true)\n",
            " |    |    |    |    |    |    |-- description: string (nullable = true)\n",
            " |    |    |    |    |    |    |-- disclaimer: string (nullable = true)\n",
            " |    |    |    |    |    |    |-- display_date: string (nullable = true)\n",
            " |    |    |    |    |    |    |-- display_time: string (nullable = true)\n",
            " |    |    |    |    |    |    |-- end_date: string (nullable = true)\n",
            " |    |    |    |    |    |    |-- end_time: string (nullable = true)\n",
            " |    |    |    |    |    |    |-- event_category: long (nullable = true)\n",
            " |    |    |    |    |    |    |-- event_category_name: string (nullable = true)\n",
            " |    |    |    |    |    |    |-- event_id: long (nullable = true)\n",
            " |    |    |    |    |    |    |-- friendly_end_date: string (nullable = true)\n",
            " |    |    |    |    |    |    |-- friendly_start_date: string (nullable = true)\n",
            " |    |    |    |    |    |    |-- is_active: long (nullable = true)\n",
            " |    |    |    |    |    |    |-- is_end_time_set: long (nullable = true)\n",
            " |    |    |    |    |    |    |-- is_valid: long (nullable = true)\n",
            " |    |    |    |    |    |    |-- photos: array (nullable = true)\n",
            " |    |    |    |    |    |    |    |-- element: struct (containsNull = true)\n",
            " |    |    |    |    |    |    |    |    |-- photo: struct (nullable = true)\n",
            " |    |    |    |    |    |    |    |    |    |-- md5sum: string (nullable = true)\n",
            " |    |    |    |    |    |    |    |    |    |-- order: long (nullable = true)\n",
            " |    |    |    |    |    |    |    |    |    |-- photo_id: long (nullable = true)\n",
            " |    |    |    |    |    |    |    |    |    |-- thumb_url: string (nullable = true)\n",
            " |    |    |    |    |    |    |    |    |    |-- type: string (nullable = true)\n",
            " |    |    |    |    |    |    |    |    |    |-- url: string (nullable = true)\n",
            " |    |    |    |    |    |    |    |    |    |-- uuid: long (nullable = true)\n",
            " |    |    |    |    |    |    |-- restaurants: array (nullable = true)\n",
            " |    |    |    |    |    |    |    |-- element: string (containsNull = true)\n",
            " |    |    |    |    |    |    |-- share_url: string (nullable = true)\n",
            " |    |    |    |    |    |    |-- start_date: string (nullable = true)\n",
            " |    |    |    |    |    |    |-- start_time: string (nullable = true)\n",
            " |    |    |    |    |    |    |-- title: string (nullable = true)\n",
            " |-- results_found: long (nullable = true)\n",
            " |-- results_shown: long (nullable = true)\n",
            " |-- results_start: string (nullable = true)\n",
            " |-- status: string (nullable = true)\n",
            "\n"
          ]
        }
      ]
    },
    {
      "cell_type": "code",
      "source": [
        " rest_json_df.select(\"*\", explode(\"restaurants\").alias(\"new_rest\")).\\\n",
        "drop(\"restaurants\").select(\"new_rest.restaurant.R.res_id\", \"new_rest.restaurant.name\",\n",
        "                           \"new_rest.restaurant.currency\",\n",
        "                           \"new_rest.restaurant.location.city\",\n",
        "                           \"new_rest.restaurant.location.country_id\",\n",
        "                           \"new_rest.restaurant.location.locality\",\n",
        "                           \"new_rest.restaurant.price_range\",\n",
        "                           \"new_rest.restaurant.user_rating.rating_text\",\n",
        "                           \"new_rest.restaurant.user_rating.rating_color\",\n",
        "                           \"new_rest.restaurant.user_rating.votes\",\n",
        "                           explode(\"new_rest.restaurant.offers\").alias(\"offers_new\")).\\\n",
        "                           drop(\"offers\").printSchema()\n",
        "\n",
        "\n",
        "\n",
        "\n"
      ],
      "metadata": {
        "colab": {
          "base_uri": "https://localhost:8080/"
        },
        "id": "NgVfDO5WR098",
        "outputId": "e6c58045-b52b-46fb-e7e2-605c25735a79"
      },
      "execution_count": 36,
      "outputs": [
        {
          "output_type": "stream",
          "name": "stdout",
          "text": [
            "root\n",
            " |-- res_id: long (nullable = true)\n",
            " |-- name: string (nullable = true)\n",
            " |-- currency: string (nullable = true)\n",
            " |-- city: string (nullable = true)\n",
            " |-- country_id: long (nullable = true)\n",
            " |-- locality: string (nullable = true)\n",
            " |-- price_range: long (nullable = true)\n",
            " |-- rating_text: string (nullable = true)\n",
            " |-- rating_color: string (nullable = true)\n",
            " |-- votes: string (nullable = true)\n",
            " |-- offers_new: struct (nullable = true)\n",
            " |    |-- offer: struct (nullable = true)\n",
            " |    |    |-- added_by: long (nullable = true)\n",
            " |    |    |-- applicable_on: long (nullable = true)\n",
            " |    |    |-- date_added: string (nullable = true)\n",
            " |    |    |-- disclaimer: string (nullable = true)\n",
            " |    |    |-- end_date: string (nullable = true)\n",
            " |    |    |-- friendly_end_date: string (nullable = true)\n",
            " |    |    |-- friendly_start_date: string (nullable = true)\n",
            " |    |    |-- impressions: long (nullable = true)\n",
            " |    |    |-- is_active: long (nullable = true)\n",
            " |    |    |-- is_editable: long (nullable = true)\n",
            " |    |    |-- is_valid: long (nullable = true)\n",
            " |    |    |-- offer_id: long (nullable = true)\n",
            " |    |    |-- offer_text: string (nullable = true)\n",
            " |    |    |-- offer_type: string (nullable = true)\n",
            " |    |    |-- restaurant_list: array (nullable = true)\n",
            " |    |    |    |-- element: string (containsNull = true)\n",
            " |    |    |-- restaurants: array (nullable = true)\n",
            " |    |    |    |-- element: string (containsNull = true)\n",
            " |    |    |-- share_url: string (nullable = true)\n",
            " |    |    |-- start_date: string (nullable = true)\n",
            " |    |    |-- status: long (nullable = true)\n",
            " |    |    |-- type: string (nullable = true)\n",
            " |    |    |-- type_code: long (nullable = true)\n",
            " |    |    |-- voucher_id: long (nullable = true)\n",
            "\n"
          ]
        }
      ]
    },
    {
      "cell_type": "code",
      "source": [
        "exploded_rest_df=rest_json_df.select(\"*\", explode(\"restaurants\").alias(\"new_rest\")).\\\n",
        "drop(\"restaurants\").select(\"new_rest.restaurant.R.res_id\", \"new_rest.restaurant.name\",\n",
        "                           \"new_rest.restaurant.currency\",\n",
        "                           \"new_rest.restaurant.location.city\",\n",
        "                           \"new_rest.restaurant.location.country_id\",\n",
        "                           \"new_rest.restaurant.location.locality\",\n",
        "                           \"new_rest.restaurant.price_range\",\n",
        "                           \"new_rest.restaurant.user_rating.rating_text\",\n",
        "                           \"new_rest.restaurant.user_rating.rating_color\",\n",
        "                           \"new_rest.restaurant.user_rating.votes\",\n",
        "                           explode(\"new_rest.restaurant.offers\").alias(\"offers_new\")).\\\n",
        "                           drop(\"offers\")\n"
      ],
      "metadata": {
        "id": "_ENYLWJ1S1GL"
      },
      "execution_count": 39,
      "outputs": []
    },
    {
      "cell_type": "code",
      "source": [
        "exploded_rest_df.select(\"*\",\"offers_new.offer.disclaimer\").drop(\"offers_new\").show(truncate= False)"
      ],
      "metadata": {
        "colab": {
          "base_uri": "https://localhost:8080/"
        },
        "id": "7ITSCfQ6VLW2",
        "outputId": "8ac9da8d-ee05-405d-9d12-12585f07787e"
      },
      "execution_count": 43,
      "outputs": [
        {
          "output_type": "stream",
          "name": "stdout",
          "text": [
            "+------+------------------------------+--------+----------+----------+----------------+-----------+-----------+------------+-----+--------------------------------------------------------------------------------------------------+\n",
            "|res_id|name                          |currency|city      |country_id|locality        |price_range|rating_text|rating_color|votes|disclaimer                                                                                        |\n",
            "+------+------------------------------+--------+----------+----------+----------------+-----------+-----------+------------+-----+--------------------------------------------------------------------------------------------------+\n",
            "|102867|Calzone- Dine & Rooftop Lounge|Rs.     |Jaipur    |1         |Vidhyadhar Nagar|2          |Good       |9ACD32      |112  |Promos are added and controlled by restaurants. Zomato is not liable for promos not being honored.|\n",
            "|122064|Midnight Chef                 |Rs.     |Chandigarh|1         |Sector 35       |3          |Average    |CDD614      |502  |Promos are added and controlled by restaurants. Zomato is not liable for promos not being honored.|\n",
            "+------+------------------------------+--------+----------+----------+----------------+-----------+-----------+------------+-----+--------------------------------------------------------------------------------------------------+\n",
            "\n"
          ]
        }
      ]
    },
    {
      "cell_type": "code",
      "source": [],
      "metadata": {
        "id": "ezSluiIVbNx6"
      },
      "execution_count": null,
      "outputs": []
    }
  ]
}